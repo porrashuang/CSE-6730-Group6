{
  "cells": [
    {
      "cell_type": "code",
      "execution_count": null,
      "metadata": {
        "id": "-qYEw7uiZjE-"
      },
      "outputs": [],
      "source": [
        "%matplotlib inline"
      ]
    },
    {
      "cell_type": "code",
      "execution_count": null,
      "metadata": {
        "id": "pE2Kuxq2eT_O"
      },
      "outputs": [],
      "source": [
        "import numpy as np\n",
        "import matplotlib.pyplot as plt\n",
        "import matplotlib.animation as animation\n",
        "from matplotlib import rc\n",
        "from netCDF4 import Dataset\n",
        "from IPython.display import HTML, display\n",
        "rc('animation', html='jshtml')\n",
        "import sys"
      ]
    },
    {
      "cell_type": "code",
      "execution_count": null,
      "metadata": {
        "id": "P3YOaYYbeT_S"
      },
      "outputs": [],
      "source": [
        "def update_concentration_parallel(ocean_map, land_mask, S, Dx, Dy, u, v, dt, dx, dy, iterations):\n",
        "    rows, cols = ocean_map.shape\n",
        "    maps_over_time = [np.copy(ocean_map)]\n",
        "    for iteration in range(iterations):\n",
        "        C_current = ocean_map\n",
        "\n",
        "        # Initialize C_new using the updated formula\n",
        "        u_shift_x = np.where(u > 0, 1, -1)\n",
        "        v_shift_y = np.where(v > 0, 1, -1)\n",
        "\n",
        "        # Calculate the mask for valid neighbors\n",
        "        valid_u_mask = np.where(np.roll(land_mask, -1, axis=0) == False, 1, 0)\n",
        "        valid_v_mask = np.where(np.roll(land_mask, -1, axis=1) == False, 1, 0)\n",
        "\n",
        "        # Calculate C_new with the updated rule\n",
        "        C_new = (\n",
        "            (1 - 2 * dt * Dx / dx**2 - 2 * dt * Dy / dy**2)\n",
        "            - (np.abs(u) * valid_u_mask * dt / dx)\n",
        "            - (np.abs(v) * valid_v_mask * dt / dy)\n",
        "        ) * C_current\n",
        "\n",
        "        # Apply the pollution source term during the first half of iterations\n",
        "        pollution_source = np.where(iteration < iterations / 2, S * dt, 0)\n",
        "        C_new += pollution_source\n",
        "\n",
        "        # Calculate contributions from neighboring cells (same logic as before)\n",
        "        mask_x_positive = (np.roll(land_mask, -1, axis=0) == False) & ((np.arange(rows) + 1 < rows)[:, np.newaxis])\n",
        "        u_x_positive = np.roll(u, -1, axis=0)  # u[i+1] for x+ direction\n",
        "        C_new = C_new + (dt / dx) * (Dx / dx - np.where(u_x_positive < 0, u_x_positive, 0)) * np.roll(ocean_map, -1, axis=0) * mask_x_positive\n",
        "\n",
        "        mask_x_negative = (np.roll(land_mask, 1, axis=0) == False) & ((np.arange(rows) - 1 >= 0)[:, np.newaxis])\n",
        "        u_x_negative = np.roll(u, 1, axis=0)  # u[i-1] for x- direction\n",
        "        C_new = C_new + (dt / dx) * (Dx / dx + np.where(u_x_negative > 0, u_x_negative, 0)) * np.roll(ocean_map, 1, axis=0) * mask_x_negative\n",
        "\n",
        "        mask_y_positive = (np.roll(land_mask, -1, axis=1) == False) & ((np.arange(cols) + 1 < cols)[np.newaxis, :])\n",
        "        v_y_positive = np.roll(v, -1, axis=1)  # v[j+1] for y+ direction\n",
        "        C_new = C_new + (dt / dy) * (Dy / dy - np.where(v_y_positive < 0, v_y_positive, 0)) * np.roll(ocean_map, -1, axis=1) * mask_y_positive\n",
        "\n",
        "        mask_y_negative = (np.roll(land_mask, 1, axis=1) == False) & ((np.arange(cols) - 1 >= 0)[np.newaxis, :])\n",
        "        v_y_negative = np.roll(v, 1, axis=1)  # v[j-1] for y- direction\n",
        "        C_new = C_new + (dt / dy) * (Dy / dy + np.where(v_y_negative > 0, v_y_negative, 0)) * np.roll(ocean_map, 1, axis=1) * mask_y_negative\n",
        "\n",
        "        # Update the ocean_map\n",
        "        ocean_map = np.where(land_mask, np.max(C_new), C_new)\n",
        "\n",
        "        if iteration % 10 == 0:\n",
        "            maps_over_time.append(np.copy(ocean_map))\n",
        "    return maps_over_time\n",
        "\n",
        "\n",
        "def animate_concentration(maps_over_time):\n",
        "    fig, ax = plt.subplots(figsize=(6, 6))\n",
        "    cmap = 'viridis'\n",
        "    cax = ax.imshow(maps_over_time[0], cmap=cmap, origin='lower', vmax=10)\n",
        "    fig.colorbar(cax, ax=ax, label='Concentration')\n",
        "\n",
        "    def update(frame):\n",
        "        cax.set_data(maps_over_time[frame])\n",
        "        ax.set_title(f'Concentration Map - Iteration {frame + 1}')\n",
        "\n",
        "    return animation.FuncAnimation(fig, update, frames=len(maps_over_time), interval=1)"
      ]
    },
    {
      "cell_type": "code",
      "execution_count": null,
      "metadata": {
        "id": "qko_WyineT_T"
      },
      "outputs": [],
      "source": [
        "%%time\n",
        "\n",
        "# Load current velocity data\n",
        "velocity_dataset = Dataset(\"./CMEMS_horizontal_current_velocity_data.nc\")\n",
        "uo_data = np.array(velocity_dataset.variables['uo'][:])  # Shape: (time, depth, latitude, longitude)\n",
        "vo_data = np.array(velocity_dataset.variables['vo'][:])  # Shape: (time, depth, latitude, longitude)\n",
        "velocity_dataset.close()\n",
        "\n",
        "# Preprocess data\n",
        "uo_data = np.squeeze(uo_data)\n",
        "vo_data = np.squeeze(vo_data)\n",
        "uo_data = uo_data[:, :240, :]  # Trim off one excess layer\n",
        "vo_data = vo_data[:, :240, :]  # Trim off one excess layer\n",
        "\n",
        "# Use data for u and v arrays\n",
        "u, v = uo_data[0], vo_data[0]  # TODO: for each time step, use the next time slice of u and v\n",
        "\n",
        "# Parameters\n",
        "rows, cols = u.shape[0], u.shape[1]  # Map size (larger to better visualize)\n",
        "dt = 3600  # Time step\n",
        "dx, dy = 8000, 8000  # Spatial step sizes\n",
        "iterations = 500  # Number of iterations\n",
        "\n",
        "# Ignore diffusion terms for now\n",
        "Dx = Dy = 1500 * np.ones((rows, cols))  # TODO: add diffusivity by incorporating temperature data and solving Stokes-Einstein\n",
        "\n",
        "# Generate initial ocean map\n",
        "ocean_map = np.zeros((rows, cols))\n",
        "\n",
        "# Generate dirichlet boundary conditions using velocity data (NaNs in data represent land)\n",
        "land_mask = np.zeros((rows, cols), dtype=bool)\n",
        "missing_uo_indices = np.isnan(uo_data[0])\n",
        "land_mask[missing_uo_indices] = True\n",
        "\n",
        "u[np.isnan(u)] = 0\n",
        "v[np.isnan(v)] = 0\n",
        "# Create a source at the mouth of the Mississippi river: 29.1511 N, -89.2533 W. This is roughly index (206, 153)\n",
        "S = np.zeros((rows, cols))\n",
        "S[205, 152] = 100  # This value is on the water: (206, 153) is on land\n",
        "\n"
      ]
    },
    {
      "cell_type": "code",
      "source": [
        "# Update concentration and collect maps over time\n",
        "\n",
        "maps_over_time = update_concentration_parallel(ocean_map, land_mask, S, Dx, Dy, u, v, dt, dx, dy, iterations)  # TODO: fix update_concentration function\n",
        "\n",
        "# Animate the concentration map\n",
        "anim = animate_concentration(maps_over_time)\n",
        "display(HTML(anim.to_jshtml()))"
      ],
      "metadata": {
        "id": "3LNh7J1rjkks"
      },
      "execution_count": null,
      "outputs": []
    },
    {
      "cell_type": "code",
      "execution_count": null,
      "metadata": {
        "id": "ZXsHo0Y-eT_U"
      },
      "outputs": [],
      "source": []
    },
    {
      "cell_type": "code",
      "execution_count": null,
      "metadata": {
        "scrolled": true,
        "id": "qvJhHY6ceT_V"
      },
      "outputs": [],
      "source": [
        "plt.figure(figsize=(10, 6))\n",
        "\n",
        "plt.imshow(land_mask, cmap=\"Greys\", interpolation=\"nearest\")\n",
        "plt.colorbar(label=\"Land/Sea\")\n",
        "plt.gca().invert_yaxis()\n",
        "\n",
        "plt.scatter(153, 206, color=\"red\", s=10)\n",
        "\n",
        "plt.show()"
      ]
    },
    {
      "cell_type": "code",
      "execution_count": null,
      "metadata": {
        "id": "4B6IylOdeT_W"
      },
      "outputs": [],
      "source": []
    }
  ],
  "metadata": {
    "colab": {
      "provenance": []
    },
    "kernelspec": {
      "display_name": "Python 3 (ipykernel)",
      "language": "python",
      "name": "python3"
    },
    "language_info": {
      "codemirror_mode": {
        "name": "ipython",
        "version": 3
      },
      "file_extension": ".py",
      "mimetype": "text/x-python",
      "name": "python",
      "nbconvert_exporter": "python",
      "pygments_lexer": "ipython3",
      "version": "3.12.7"
    }
  },
  "nbformat": 4,
  "nbformat_minor": 0
}